{
  "nbformat": 4,
  "nbformat_minor": 0,
  "metadata": {
    "colab": {
      "name": "Projet final web scraping.ipynb",
      "provenance": [],
      "collapsed_sections": [],
      "include_colab_link": true
    },
    "kernelspec": {
      "display_name": "Python 3",
      "name": "python3"
    },
    "language_info": {
      "name": "python"
    }
  },
  "cells": [
    {
      "cell_type": "markdown",
      "metadata": {
        "id": "view-in-github",
        "colab_type": "text"
      },
      "source": [
        "<a href=\"https://colab.research.google.com/github/kardiatougako/projet-final-web-scraping/blob/main/Projet_final_web_scraping.ipynb\" target=\"_parent\"><img src=\"https://colab.research.google.com/assets/colab-badge.svg\" alt=\"Open In Colab\"/></a>"
      ]
    },
    {
      "cell_type": "markdown",
      "metadata": {
        "id": "U2JFPZuC76Bn"
      },
      "source": [
        " **CE projet est presenté par\n",
        " Kardiatou GAKO et Mame THiam**"
      ]
    },
    {
      "cell_type": "markdown",
      "metadata": {
        "id": "-isnFC1xIYzL"
      },
      "source": [
        "**SUJET 15 :Les meilleures chansons hebdomadaires (Top 40 hebdomadaires)**"
      ]
    },
    {
      "cell_type": "code",
      "metadata": {
        "id": "mbcUCmwF0a2u"
      },
      "source": [
        " \n",
        " # Importer les packages\n",
        "import requests\n",
        "from bs4 import BeautifulSoup\n",
        "import pandas as pd"
      ],
      "execution_count": null,
      "outputs": []
    },
    {
      "cell_type": "markdown",
      "metadata": {
        "id": "JGJyuiPpPor2"
      },
      "source": [
        " On cree un ensemble de données des 40 meilleures chansons de chaque semaine d'une annee donnee\n",
        " dans ce cas on va proceder ainsi d'abord recuperer le contenu du lien url"
      ]
    },
    {
      "cell_type": "code",
      "metadata": {
        "id": "e9PAzV9C0srI"
      },
      "source": [
        "# collecte du contenu du lien  URL\n",
        "urls='https://top40weekly.com/'\n",
        "r=requests.get(urls)\n",
        "print(r)\n"
      ],
      "execution_count": null,
      "outputs": []
    },
    {
      "cell_type": "markdown",
      "metadata": {
        "id": "vc1UyCYVsPgg"
      },
      "source": [
        " on cree l'objet  BeautifulSoup pour pouvoir exploités des codes html  et aussi recuperer toutes les balises leurs contenu leurs freres etc\n",
        " le html.parser pour dire c'est un parser html"
      ]
    },
    {
      "cell_type": "code",
      "metadata": {
        "id": "oUoxtJPfSbHl"
      },
      "source": [
        " doc = BeautifulSoup(r.text,'html.parser')\n",
        " doc"
      ],
      "execution_count": null,
      "outputs": []
    },
    {
      "cell_type": "code",
      "metadata": {
        "id": "7313DOgX_yAB"
      },
      "source": [
        "#doc=Soup.find_all(class_=\"x-text\")\n",
        "#print(doc)"
      ],
      "execution_count": null,
      "outputs": []
    },
    {
      "cell_type": "markdown",
      "metadata": {
        "id": "DTXqsjoES4VD"
      },
      "source": [
        "Dans cette partie on utilise la fonction find pour recuperer le title le texte et strip pour supprimer les espaces "
      ]
    },
    {
      "cell_type": "code",
      "metadata": {
        "id": "gRr_QaqLStbH"
      },
      "source": [
        " title=doc.find('header', class_=\"entry-header\").text.strip()\n",
        " title"
      ],
      "execution_count": null,
      "outputs": []
    },
    {
      "cell_type": "markdown",
      "metadata": {
        "id": "0HCwhmXNTOtR"
      },
      "source": [
        " Meme procedure pour la date en recuperant d'abord la balise et l'attribut"
      ]
    },
    {
      "cell_type": "code",
      "metadata": {
        "id": "z4DWq5b3TEf8"
      },
      "source": [
        "date=doc.find('h4',class_=\"h-custom-headline cs-ta-left h4\").text.strip()\n",
        "date"
      ],
      "execution_count": null,
      "outputs": []
    },
    {
      "cell_type": "markdown",
      "metadata": {
        "id": "PkwymkNgs3U4"
      },
      "source": [
        " le findall va recuperer tout les balises de type p"
      ]
    },
    {
      "cell_type": "code",
      "metadata": {
        "id": "BFqgd3wjTiJU"
      },
      "source": [
        "p_tag=doc.find_all('p')\n",
        "p_tag\n",
        " "
      ],
      "execution_count": null,
      "outputs": []
    },
    {
      "cell_type": "markdown",
      "metadata": {
        "id": "z-5_0EH7vaLG"
      },
      "source": [
        "ce code recupere le premier paragraphe"
      ]
    },
    {
      "cell_type": "code",
      "metadata": {
        "id": "g_BwtDvEU6ss"
      },
      "source": [
        "p_tag[3]"
      ],
      "execution_count": null,
      "outputs": []
    },
    {
      "cell_type": "markdown",
      "metadata": {
        "id": "KmBv8Mlgvfvi"
      },
      "source": [
        "Dans cette partie on recupere le premier paragraphe et on l'affiche en texte "
      ]
    },
    {
      "cell_type": "code",
      "metadata": {
        "id": "NW8AH36trFYM"
      },
      "source": [
        "p3=p_tag[3].text.strip()\n",
        "p3 = p3.replace('\\n',\"\")\n",
        "p3"
      ],
      "execution_count": null,
      "outputs": []
    },
    {
      "cell_type": "code",
      "metadata": {
        "id": "0FDtRAKYZrlG"
      },
      "source": [
        "p4=[p3[2:12],p3[23:27],p3[31:60]]\n",
        "p4"
      ],
      "execution_count": null,
      "outputs": []
    },
    {
      "cell_type": "markdown",
      "metadata": {
        "id": "rB4qIdJOvpUM"
      },
      "source": [
        "  On affiche le second paragraphe"
      ]
    },
    {
      "cell_type": "code",
      "metadata": {
        "id": "AqDmQTa1iKIa"
      },
      "source": [
        " p_tag[4]"
      ],
      "execution_count": null,
      "outputs": []
    },
    {
      "cell_type": "markdown",
      "metadata": {
        "id": "ujXY96Dhv34w"
      },
      "source": [
        " On recupere le troixieme paragraphe\n",
        " "
      ]
    },
    {
      "cell_type": "code",
      "metadata": {
        "id": "1jqt2vqQiVjN"
      },
      "source": [
        "p_tag[5]"
      ],
      "execution_count": null,
      "outputs": []
    },
    {
      "cell_type": "markdown",
      "metadata": {
        "id": "96Wo_0X4wET7"
      },
      "source": [
        "ceci recupere le dernier paragraphe "
      ]
    },
    {
      "cell_type": "code",
      "metadata": {
        "id": "4K8FB5CgjH5k"
      },
      "source": [
        "p_tag[6]"
      ],
      "execution_count": null,
      "outputs": []
    },
    {
      "cell_type": "markdown",
      "metadata": {
        "id": "k00ywGyuG3jE"
      },
      "source": [
        "On a recuprerer toutes informations voulues maintenant on va passer à la questios suite :\n",
        "On va capturer pour chacunes des 40 chansons hebdomodaires des informatoins telles le titre de la chanson ,l'artiste et le classement hebdomodaire "
      ]
    },
    {
      "cell_type": "code",
      "metadata": {
        "id": "iAuLF0QrH6xT"
      },
      "source": [
        " # on utilise ce code pour des iterations \n",
        " if r.ok:\n",
        "  print(r.headers)\n",
        "  "
      ],
      "execution_count": null,
      "outputs": []
    },
    {
      "cell_type": "markdown",
      "metadata": {
        "id": "7ACgnVfB0oUj"
      },
      "source": [
        "Dans la partie ci-dessous on va creer une liste d'abord en suite parcourir avec la boucle for en utilisant la taille du doc en fin va afficher tout les insformatios dans cette balise"
      ]
    },
    {
      "cell_type": "code",
      "metadata": {
        "id": "KgAR2WwzEv6o"
      },
      "source": [
        "tops=[]\n",
        "for i in range(len(doc)):\n",
        "  top=[]\n",
        "  for j in doc.find_all('p'):\n",
        "    top.append(j.text)\n",
        "    tops.append(top)\n",
        "print(tops)\n",
        "\n"
      ],
      "execution_count": null,
      "outputs": []
    },
    {
      "cell_type": "code",
      "metadata": {
        "id": "iqbCCqi1F8KI"
      },
      "source": [
        "tops[1]"
      ],
      "execution_count": null,
      "outputs": []
    },
    {
      "cell_type": "code",
      "metadata": {
        "id": "IokiR8Ie3YzJ"
      },
      "source": [
        "tops[3]"
      ],
      "execution_count": null,
      "outputs": []
    },
    {
      "cell_type": "code",
      "metadata": {
        "id": "dM8CbIKU2SyS"
      },
      "source": [
        "top[5]"
      ],
      "execution_count": null,
      "outputs": []
    },
    {
      "cell_type": "markdown",
      "metadata": {
        "id": "8Oja96A0HS-K"
      },
      "source": [
        "On utilise quel rappel sur les pages content DANS CETTe partie on va utiliser les pages content pour afficher le contenu de la page . Cette partie c'est pour recuperer quelques informations en utilisant la commande page_content"
      ]
    },
    {
      "cell_type": "code",
      "metadata": {
        "id": "cyRtTUpVHiOU"
      },
      "source": [
        "page_content=r.text"
      ],
      "execution_count": null,
      "outputs": []
    },
    {
      "cell_type": "code",
      "metadata": {
        "colab": {
          "base_uri": "https://localhost:8080/"
        },
        "id": "_ZXiqd6wHonX",
        "outputId": "42716c9a-b0be-41d1-8284-37a8b7f4e369"
      },
      "source": [
        "len(page_content)"
      ],
      "execution_count": null,
      "outputs": [
        {
          "output_type": "execute_result",
          "data": {
            "text/plain": [
              "114647"
            ]
          },
          "metadata": {},
          "execution_count": 31
        }
      ]
    },
    {
      "cell_type": "code",
      "metadata": {
        "id": "DKrXe7h27ltz"
      },
      "source": [
        "# CE code nous permet de l'ouvir dans un fichier machine-learning-top40weekly.html\n",
        "with open('machine-learning-top40weekly.html','w',encoding='utf-8') as file:\n",
        "  file.write(page_content)"
      ],
      "execution_count": null,
      "outputs": []
    },
    {
      "cell_type": "code",
      "metadata": {
        "id": "ZEy38GvwHvFV"
      },
      "source": [
        "# Pour recuperer les 1000 premier caracteres \n",
        " page_content[:1000]"
      ],
      "execution_count": null,
      "outputs": []
    }
  ]
}